{
 "cells": [
  {
   "cell_type": "markdown",
   "id": "d7e15a28-469e-4b9d-8329-ed5659d5fc10",
   "metadata": {},
   "source": [
    "So I think what this shows is that we can do an FFTSHIFT interpolation without loss. Because this signal is assumed to be constant, and therefore any oscillating signal would be pure noise, and the noise shows correlation, that means the noise is introduced *before* the correlating process. That means we can `fftshift` the channels back to center without loosing any information.\n",
    "\n",
    "Basically, the noise is bandlimited."
   ]
  },
  {
   "cell_type": "code",
   "execution_count": null,
   "id": "aa6b6715-f364-4cdb-ab5e-8e4868b54d87",
   "metadata": {},
   "outputs": [],
   "source": [
    "plt.plot(np.hanning(nchan))"
   ]
  },
  {
   "cell_type": "code",
   "execution_count": null,
   "id": "66a27293-915a-48b3-903a-1edd6c03d8ab",
   "metadata": {},
   "outputs": [],
   "source": [
    "response = np.abs(np.fft.fftshift(np.fft.fft(np.hanning(nchan))))\n",
    "\n",
    "plt.plot(response, \".\")\n",
    "plt.xlim(nchan//2 - 3, nchan//2 + 3)"
   ]
  },
  {
   "cell_type": "markdown",
   "id": "fd683974-d1e1-4d78-a9c0-a1bf461207ca",
   "metadata": {},
   "source": [
    "This is the triangle function that is commonly invoked.\n",
    "Nothing shows up beyond the three nearby values *unless* we pad. This is why the application of a Hanning window as a convolution can be so efficient."
   ]
  },
  {
   "cell_type": "code",
   "execution_count": null,
   "id": "d5c78513-2be5-4338-84be-0e044169327a",
   "metadata": {},
   "outputs": [],
   "source": [
    "N = nchan*10\n",
    "response = np.abs(np.fft.fftshift(np.fft.fft(np.hanning(nchan), n=N)))\n",
    "\n",
    "plt.semilogy(np.clip(response, 1e-3,1e3))\n",
    "plt.xlim(N//2 - 40, N//2 + 40)"
   ]
  },
  {
   "cell_type": "markdown",
   "id": "2e0eafb9-3607-4122-9d0d-8fef24466778",
   "metadata": {},
   "source": [
    "Having established that the noise is bandlimited, and that fftshift should work, how do we go about testing whether the interpolations are correct? If we do the interpolation and the autocorrelation looks the same? Presumably a non-optimal interpolation, like linear, would make the autocorrelation profile look crummy?"
   ]
  },
  {
   "cell_type": "code",
   "execution_count": null,
   "id": "8dd90a0a-9b51-4c5c-a9af-507b372d768c",
   "metadata": {},
   "outputs": [],
   "source": []
  }
 ],
 "metadata": {
  "kernelspec": {
   "display_name": "Python 3 (ipykernel)",
   "language": "python",
   "name": "python3"
  },
  "language_info": {
   "codemirror_mode": {
    "name": "ipython",
    "version": 3
   },
   "file_extension": ".py",
   "mimetype": "text/x-python",
   "name": "python",
   "nbconvert_exporter": "python",
   "pygments_lexer": "ipython3",
   "version": "3.8.8"
  }
 },
 "nbformat": 4,
 "nbformat_minor": 5
}
