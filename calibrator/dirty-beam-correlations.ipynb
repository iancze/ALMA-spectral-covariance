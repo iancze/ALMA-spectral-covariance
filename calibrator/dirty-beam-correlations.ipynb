{
 "cells": [
  {
   "cell_type": "markdown",
   "id": "c3a7fa44-9ee9-4d32-b49d-4042f0806a4f",
   "metadata": {},
   "source": [
    "# Dirty beam channel experiments\n",
    "\n",
    "* Get small array configuration of real data\n",
    "* Make fake data, small in number but high S/N. Include channel-to-channel correlations.\n",
    "* Image and make beam.\n",
    "* Compared to derived expressions."
   ]
  }
 ],
 "metadata": {
  "kernelspec": {
   "display_name": "Python 3 (ipykernel)",
   "language": "python",
   "name": "python3"
  },
  "language_info": {
   "codemirror_mode": {
    "name": "ipython",
    "version": 3
   },
   "file_extension": ".py",
   "mimetype": "text/x-python",
   "name": "python",
   "nbconvert_exporter": "python",
   "pygments_lexer": "ipython3",
   "version": "3.8.8"
  }
 },
 "nbformat": 4,
 "nbformat_minor": 5
}
