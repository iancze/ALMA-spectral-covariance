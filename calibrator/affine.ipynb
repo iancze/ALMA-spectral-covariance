{
 "cells": [
  {
   "cell_type": "markdown",
   "id": "20a9ff6d-52b2-4f42-b274-9a92309926b9",
   "metadata": {},
   "source": [
    "https://math.stackexchange.com/questions/332441/affine-transformation-applied-to-a-multivariate-gaussian-random-variable-what\n",
    "\n",
    "https://en.wikipedia.org/wiki/Multivariate_normal_distribution#Affine_transformation"
   ]
  },
  {
   "cell_type": "markdown",
   "id": "11808179-6fb0-442e-8eba-4a8abe7cff4e",
   "metadata": {},
   "source": [
    "If $Y = c + B X$ is an affine transformation of $X \\sim \\mathcal{N}(\\mu, \\Sigma)$, then $Y$ has multivariate distribution like $Y \\sim \\mathcal{N}(c + B \\mu, B \\Sigma B^T)$"
   ]
  },
  {
   "cell_type": "markdown",
   "id": "b2eb6ff2-5627-4f73-a4ea-fee4194246af",
   "metadata": {},
   "source": [
    "A discrete convolution can be represented by a Toeplitz matrix: https://en.wikipedia.org/wiki/Toeplitz_matrix"
   ]
  },
  {
   "cell_type": "code",
   "execution_count": null,
   "id": "3fb4b6b2-5b30-458b-8389-a6c6f2203e3d",
   "metadata": {},
   "outputs": [],
   "source": []
  }
 ],
 "metadata": {
  "kernelspec": {
   "display_name": "Python 3 (ipykernel)",
   "language": "python",
   "name": "python3"
  },
  "language_info": {
   "codemirror_mode": {
    "name": "ipython",
    "version": 3
   },
   "file_extension": ".py",
   "mimetype": "text/x-python",
   "name": "python",
   "nbconvert_exporter": "python",
   "pygments_lexer": "ipython3",
   "version": "3.8.8"
  }
 },
 "nbformat": 4,
 "nbformat_minor": 5
}
